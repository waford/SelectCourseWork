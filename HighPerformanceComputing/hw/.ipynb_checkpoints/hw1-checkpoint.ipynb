{
 "cells": [
  {
   "cell_type": "markdown",
   "metadata": {},
   "source": [
    "# Homework 1\n",
    "\n",
    "29 points\n",
    "\n",
    "## Due January 28, before class"
   ]
  },
  {
   "cell_type": "markdown",
   "metadata": {},
   "source": [
    "**Collaboration statement:**"
   ]
  },
  {
   "cell_type": "markdown",
   "metadata": {},
   "source": [
    "## 1.  Get logged in to [PACE-ICE](https://docs.pace.gatech.edu/training/pace-ice/) (1 point)\n",
    "\n",
    "- There are orientation [slides](https://pace.gatech.edu/sites/default/files/pace-ice_orientation_2.pdf)\n",
    "    - You have to be on campus or using the campus VPN to connect\n",
    "- After you connect you will be using a shell to interact with the linux operating system on a login node.  If this is your first time using linux, PACE also has [materials to help you](https://docs.pace.gatech.edu/training/linux101/)\n",
    "\n",
    "Once you are logged in, in the cell below create a tuple with your username and your numeric user id.  You can find your numeric user id by running the command `id -u`.  For example, I would write\n",
    "\n",
    "```julia\n",
    "(\"tisaac3\", 177194)\n",
    "```"
   ]
  },
  {
   "cell_type": "code",
   "execution_count": null,
   "metadata": {
    "deletable": false,
    "nbgrader": {
     "cell_type": "code",
     "checksum": "8eb156d18226091bd3ac7195f6ca805b",
     "grade": false,
     "grade_id": "cell-d2a9c84ab1798612",
     "locked": false,
     "schema_version": 3,
     "solution": true,
     "task": false
    }
   },
   "outputs": [],
   "source": [
    "(\"wford32\", 960502)\n",
    "throw(MethodError)"
   ]
  },
  {
   "cell_type": "markdown",
   "metadata": {},
   "source": [
    "This is not asking you to divulge any private or secure information: your id is availabe to anyone else on the system, and in fact that is how we will check your answer."
   ]
  },
  {
   "cell_type": "code",
   "execution_count": null,
   "metadata": {
    "deletable": false,
    "editable": false,
    "nbgrader": {
     "cell_type": "code",
     "checksum": "a7a9351e74759c821eb2191f0ce57284",
     "grade": true,
     "grade_id": "cell-45bff31edacc2a4a",
     "locked": true,
     "points": 1,
     "schema_version": 3,
     "solution": false,
     "task": false
    }
   },
   "outputs": [],
   "source": [
    "# The grading script will run this on the pace-ice system\n",
    "username, userid = ans\n",
    "if endswith(read(`hostname`, String), \"pace.gatech.edu\")\n",
    "    record = r\"uid=(\\d*)\\((\\w*)\\)\";\n",
    "    fullrecord = read(`id -- $username`, String)\n",
    "    result = match(record, fullrecord)\n",
    "    @assert string(userid) == result[1]\n",
    "    @assert username == result[2]\n",
    "end"
   ]
  },
  {
   "cell_type": "markdown",
   "metadata": {},
   "source": [
    "## 2. Big O notation (3 points)\n",
    "\n",
    "Prove that if $f(x) > 0$ and $g(x) > 0$ for all $x$ then $f\\in \\Theta(g)$ if and only if $g \\in \\Theta(f)$."
   ]
  },
  {
   "cell_type": "code",
   "execution_count": null,
   "metadata": {
    "deletable": false,
    "nbgrader": {
     "cell_type": "markdown",
     "checksum": "17a8d9ed5b7e03fb578957a9bede2a02",
     "grade": true,
     "grade_id": "cell-048d28e6ccb1c45e",
     "locked": false,
     "points": 3,
     "schema_version": 3,
     "solution": true,
     "task": false
    }
   },
   "outputs": [],
   "source": [
    "If $$f \\in \\Theta(g)$$, then $$ f \\in O(g)$$ and $$ f \\in \\Omega(g)$$. "
   ]
  },
  {
   "cell_type": "markdown",
   "metadata": {},
   "source": [
    "### 3. Master Theorem (5 points)\n",
    "\n",
    "Strassen's algorithm is a method for mutliplying two matrices, $C\\gets AB$ (to simplify, assume they are square, $A,B,C\\in \\mathbb{R}^{n\\times n}$).  In Strassen's algorithm, we\n",
    "\n",
    "1. split $A$ and $B$ in half like so (this splitting in mostly symbolic and implies only $O(1)$ work)\n",
    "\n",
    "$$\n",
    "\\left[\\begin{array}{c|c} A_{11} & A_{12} \\\\ \\hline A_{21} & A_{22} \\end{array}\\right]\n",
    "\\gets A, \\quad A_{\\{1,2\\}\\{1,2\\}}\\in \\mathbb{R}^{\\frac{n}{2} \\times \\frac{n}{2}}\n",
    "$$\n",
    "\n",
    "2. compute some intermediate matrix sums\n",
    "\n",
    "$$\n",
    "\\begin{aligned}\n",
    "S_1 &\\gets A_{11} + A_{22}, &\n",
    "S_2 &\\gets B_{11} + B_{22}, \\\\\n",
    "S_3 &\\gets A_{21} + A_{22}, &\n",
    "S_4 &\\gets B_{12} - B_{22}, \\\\\n",
    "S_5 &\\gets B_{21} - B_{11}, &\n",
    "S_6 &\\gets A_{11} + A_{12}, \\\\\n",
    "S_7 &\\gets A_{21} - A_{11}, &\n",
    "S_8 &\\gets B_{11} + B_{12}, \\\\\n",
    "S_9 &\\gets A_{12} - A_{22}, &\n",
    "S_{10} &\\gets B_{21} + B_{22}.\n",
    "\\end{aligned}\n",
    "$$\n",
    "\n",
    "3. compute some matrix products\n",
    "\n",
    "$$\n",
    "\\begin{aligned}\n",
    "M_1 &\\gets S_1 S_2, &\n",
    "M_2 &\\gets S_3 B_{11}, \\\\\n",
    "M_3 &\\gets A_{11} S_4, &\n",
    "M_4 &\\gets A_{22} S_5, \\\\\n",
    "M_5 &\\gets S_6 B_{22}, &\n",
    "M_6 &\\gets S_7 S_8, \\\\\n",
    "M_7 &\\gets S_9 S_{10}.\n",
    "\\end{aligned}\n",
    "$$\n",
    "\n",
    "4. compute the final sums\n",
    "\n",
    "$$\n",
    "C \\gets\n",
    "\\left[\n",
    "\\begin{array}{c|c}\n",
    "M_1 + M_4 - M_5 + M_7 & M_3 + M_5, \\\\ \\hline\n",
    "M_2 + M_4 & M_1 - M_2 + M_3 + M_6\n",
    "\\end{array}\n",
    "\\right]\n",
    "$$\n",
    "\n",
    "Assuming Strassen's algorithm uses the same steps recursively for the matrix products in step 3, what is the recurrence for the time complexity?  Namely, in \n",
    "\n",
    "$$T(n) = f(n) + a T(n/b),$$\n",
    "\n",
    "Say what $a$, $b$, and the $\\Theta$ class of $f(n)$ are, and then use the Master Theorem to say what the $\\Theta$ class of $T(n)$ is."
   ]
  },
  {
   "cell_type": "markdown",
   "metadata": {
    "deletable": false,
    "nbgrader": {
     "cell_type": "markdown",
     "checksum": "1da6c741a224ac6cfb5e6124d4327772",
     "grade": true,
     "grade_id": "cell-3331046dc931592b",
     "locked": false,
     "points": 5,
     "schema_version": 3,
     "solution": true,
     "task": false
    }
   },
   "source": [
    "YOUR ANSWER HERE"
   ]
  },
  {
   "cell_type": "markdown",
   "metadata": {},
   "source": [
    "## 4. Work/depth\n",
    "\n",
    "A unit lower bidiagonal matrix looks like the following:\n",
    "\n",
    "$$\n",
    "A = \n",
    "\\begin{bmatrix}\n",
    "1      & 0      & \\dots  & \\dots   & 0  \\\\\n",
    "a_1    & 1      & \\ddots &         & \\vdots \\\\ \n",
    "0      & a_2    & \\ddots & \\ddots  & \\vdots \\\\\n",
    "\\vdots & \\ddots & \\ddots & 1       & 0 \\\\\n",
    "0      & \\dots  & 0      & a_{n-1} & 1\n",
    "\\end{bmatrix}.\n",
    "$$"
   ]
  },
  {
   "cell_type": "markdown",
   "metadata": {},
   "source": [
    "The following function multiplies $A$ (represented by the vector $[a_1, \\dots, a_{n-1}]$ by a vector $x$, $y\\gets A x$:"
   ]
  },
  {
   "cell_type": "code",
   "execution_count": null,
   "metadata": {},
   "outputs": [],
   "source": [
    "function unit_lower_bidiagonal_multiply!(a, x, y)\n",
    "    n = size(x,1)\n",
    "    @assert size(a,1) == n - 1\n",
    "    @assert size(y,1) == n\n",
    "    y[1] = x[1]\n",
    "    for i = 1:n-1\n",
    "        y[i+1] = x[i] * a[i] + x[i+1]\n",
    "    end\n",
    "    return nothing\n",
    "end"
   ]
  },
  {
   "cell_type": "markdown",
   "metadata": {},
   "source": [
    "The following function reverses the above, $x \\gets A^{-1} y$:"
   ]
  },
  {
   "cell_type": "code",
   "execution_count": null,
   "metadata": {},
   "outputs": [],
   "source": [
    "function unit_lower_bidiagonal_solve!(a, y, x)\n",
    "    n = size(x,1)\n",
    "    @assert size(a,1) == n - 1\n",
    "    @assert size(y,1) == n\n",
    "    x[1] = y[1]\n",
    "    for i = 1:n-1\n",
    "        x[i+1] = y[i+1] - x[i] * a[i]\n",
    "    end\n",
    "    return nothing\n",
    "end"
   ]
  },
  {
   "cell_type": "markdown",
   "metadata": {},
   "source": [
    "### a. (3 points)\n",
    "\n",
    "Draw circuit diagrams for $y \\gets Ax$ and $x \\gets A^{-1} y$ for $n=4$.  You may use a computer for your drawings or draw by hand and take a picture.  If you want to include a picture in a markdown cell, you do it like `![](hw1p4a1.png)`, where `hwp4a1.png` is the picture file."
   ]
  },
  {
   "cell_type": "markdown",
   "metadata": {
    "deletable": false,
    "nbgrader": {
     "cell_type": "markdown",
     "checksum": "5218c9e344eae148f4c6e2917f897250",
     "grade": true,
     "grade_id": "cell-ddbdda4470d07068",
     "locked": false,
     "points": 3,
     "schema_version": 3,
     "solution": true,
     "task": false
    }
   },
   "source": [
    "YOUR ANSWER HERE"
   ]
  },
  {
   "cell_type": "markdown",
   "metadata": {},
   "source": [
    "### b. (2 points)\n",
    "\n",
    "What is $W_{Ax}(n)$, the work of $y\\gets Ax$ as a function of $n$?\n",
    "\n",
    "What is $D_{Ax}(n)$, the depth of $y\\gets Ax$ as a function of $n$?\n",
    "\n",
    "What is $W_{A^{-1}y}(n)$, the work of $x \\gets A^{-1} y$ as a function of $n$?\n",
    "\n",
    "What is $D_{A^{-1}y}(n)$, the depth of $x \\gets A^{-1} y$ as a function of $n$?\n",
    "\n",
    "(For these values, only consider arithmetic operations, not assignments)"
   ]
  },
  {
   "cell_type": "markdown",
   "metadata": {
    "deletable": false,
    "nbgrader": {
     "cell_type": "markdown",
     "checksum": "34402c44141cf5866b418f8683e7f898",
     "grade": true,
     "grade_id": "cell-8e68365eaf994acf",
     "locked": false,
     "points": 2,
     "schema_version": 3,
     "solution": true,
     "task": false
    }
   },
   "source": [
    "YOUR ANSWER HERE"
   ]
  },
  {
   "cell_type": "markdown",
   "metadata": {},
   "source": [
    "## 5. Work/depth of quicksort"
   ]
  },
  {
   "cell_type": "markdown",
   "metadata": {},
   "source": [
    "### a. (2 points)\n",
    "Write an implementation of quicksort that uses `@spawn` and `fetch` to parallelize the recursive step.\n",
    "\n",
    "- Use `rand(1:n)` to pick the pivot out of an array of length $n$\n",
    "- Your function should return a tuple `(W, D)` of two integers:\n",
    "    - `W` is the total number of comparisons performed by quicksort\n",
    "    - `D` is the depth of comparisons that occur in sequence\n",
    "  \n",
    "  So if quicksort performs $C$ comparisons before recursion, and the recursive calls\n",
    "  have work and depth $(W_1, D_1)$ and $(W_2, D_2)$, then the total work will be $C + W_1 + W_2$ and depth will be $C + \\max(D_1, D_2)$."
   ]
  },
  {
   "cell_type": "code",
   "execution_count": null,
   "metadata": {
    "deletable": false,
    "nbgrader": {
     "cell_type": "code",
     "checksum": "df927ce9318fedaf7f55729ff34271f0",
     "grade": false,
     "grade_id": "cell-13af5d1059c48a0c",
     "locked": false,
     "schema_version": 3,
     "solution": true,
     "task": false
    }
   },
   "outputs": [],
   "source": [
    "import Base.Threads: @spawn\n",
    "\n",
    "@views function parallel_quicksort!(A)::Tuple{Int64,Int64}\n",
    "    # your code here\n",
    "    throw(MethodError)\n",
    "end"
   ]
  },
  {
   "cell_type": "code",
   "execution_count": null,
   "metadata": {
    "deletable": false,
    "editable": false,
    "nbgrader": {
     "cell_type": "code",
     "checksum": "ce4899cfb4a4ccda12b3c5e4c36cfb7f",
     "grade": true,
     "grade_id": "cell-03f945b6b007ab20",
     "locked": true,
     "points": 2,
     "schema_version": 3,
     "solution": false,
     "task": false
    }
   },
   "outputs": [],
   "source": [
    "A = rand(1:3,100)\n",
    "W, D = parallel_quicksort!(A)\n",
    "@assert issorted(A)"
   ]
  },
  {
   "cell_type": "markdown",
   "metadata": {},
   "source": [
    "### b. (3 points)\n",
    "\n",
    "Create a scatter plot using `parallel_quicksort!`:\n",
    "- x-axis: the work $W$\n",
    "- y-axis: the available parallelism $W$ / $D$\n",
    "- for random arrays (`rand(n)`) for $n = 10, 20, \\dots,  100$\n",
    "- generate 1000 samples for each $n$"
   ]
  },
  {
   "cell_type": "code",
   "execution_count": null,
   "metadata": {
    "deletable": false,
    "nbgrader": {
     "cell_type": "code",
     "checksum": "463bace4aea1b8ef8fe9cfbe0779f53b",
     "grade": true,
     "grade_id": "cell-bf0ad2e80d610895",
     "locked": false,
     "points": 3,
     "schema_version": 3,
     "solution": true,
     "task": false
    }
   },
   "outputs": [],
   "source": [
    "# your code here\n",
    "throw(MethodError)"
   ]
  },
  {
   "cell_type": "markdown",
   "metadata": {},
   "source": [
    "## 6. Comparing speedups\n",
    "\n",
    "You are given two parallel algorithms, $A$ and $B$, for solving a problem of size $n$:\n",
    "\n",
    "$$\\begin{aligned}T_A(n,n^2) &= \\sqrt{n}, \\\\\n",
    "T_B(n,n) &= n.\\end{aligned}$$"
   ]
  },
  {
   "cell_type": "markdown",
   "metadata": {},
   "source": [
    "### a. (3 points)\n",
    "\n",
    "Which algorithm will run faster on a machine with with $p$ processors?  Do not make any particular assumptions on $p$.  Instead, consider all possible values of $p$."
   ]
  },
  {
   "cell_type": "markdown",
   "metadata": {
    "deletable": false,
    "nbgrader": {
     "cell_type": "markdown",
     "checksum": "d1281547ba58c3d0e0a15efcc9cdd519",
     "grade": true,
     "grade_id": "cell-96c2ee87a3353005",
     "locked": false,
     "points": 3,
     "schema_version": 3,
     "solution": true,
     "task": false
    },
    "slideshow": {
     "slide_type": "slide"
    }
   },
   "source": [
    "YOUR ANSWER HERE"
   ]
  },
  {
   "cell_type": "markdown",
   "metadata": {},
   "source": [
    "### b. (2 points)\n",
    "\n",
    "Now assume you have to run $k$ independent instances of the same problem, each of size $n$ on a $p = n^2$ processor machine.\n",
    "You can\n",
    "run multiple instances concurrently each using only a subset of\n",
    "the available processors. Which algorithm will finish the fastest?\n",
    "Consider all possible values for $k$."
   ]
  },
  {
   "cell_type": "markdown",
   "metadata": {
    "deletable": false,
    "nbgrader": {
     "cell_type": "markdown",
     "checksum": "1eec0c037768ecfe3bb0b1721c804e09",
     "grade": true,
     "grade_id": "cell-502295758a62c0a2",
     "locked": false,
     "points": 2,
     "schema_version": 3,
     "solution": true,
     "task": false
    }
   },
   "source": [
    "YOUR ANSWER HERE"
   ]
  },
  {
   "cell_type": "markdown",
   "metadata": {},
   "source": [
    "## 7. Memory constraints\n",
    "\n",
    "The following information is given on a parallel algorithm:\n",
    "\n",
    "- Serial run time: $n \\log n$\n",
    "- Parallel run time: $\\frac{n \\log n}{p} + p \\log n$\n",
    "- Memory required per processor: $\\frac{n}{p}$"
   ]
  },
  {
   "cell_type": "markdown",
   "metadata": {},
   "source": [
    "### a. (3 points)\n",
    "\n",
    "Find the largest number of processors (as a function of $n$) that can be used while being optimally efficient.  In other words, you are being asked to find a function $f(n)$ such\n",
    "that $E(n,p(n))\\in \\Theta(1)$ if and only if $p(n) \\in O(f(n))$."
   ]
  },
  {
   "cell_type": "markdown",
   "metadata": {
    "deletable": false,
    "nbgrader": {
     "cell_type": "markdown",
     "checksum": "eb756d09f8d633757877a959a85e6d47",
     "grade": true,
     "grade_id": "cell-a7ae1bfc1493a6e4",
     "locked": false,
     "points": 3,
     "schema_version": 3,
     "solution": true,
     "task": false
    }
   },
   "source": [
    "YOUR ANSWER HERE"
   ]
  },
  {
   "cell_type": "markdown",
   "metadata": {},
   "source": [
    "### b. (2 points)\n",
    "\n",
    "Assuming that we want to run this algorithm on a machine where the memory available per processor is fixed, can we scale the number of processors as $O(f(n))$ as derived above?  Why or why not?"
   ]
  },
  {
   "cell_type": "markdown",
   "metadata": {
    "deletable": false,
    "nbgrader": {
     "cell_type": "markdown",
     "checksum": "f1d8ddb9edbe3ef40d4b55b752d73832",
     "grade": true,
     "grade_id": "cell-94679e86bed31ddc",
     "locked": false,
     "points": 2,
     "schema_version": 3,
     "solution": true,
     "task": false
    }
   },
   "source": [
    "YOUR ANSWER HERE"
   ]
  }
 ],
 "metadata": {
  "kernelspec": {
   "display_name": "Julia 1.4.1",
   "language": "julia",
   "name": "julia-1.4"
  },
  "language_info": {
   "file_extension": ".jl",
   "mimetype": "application/julia",
   "name": "julia",
   "version": "1.4.1"
  }
 },
 "nbformat": 4,
 "nbformat_minor": 5
}
